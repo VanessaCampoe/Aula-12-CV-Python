{
 "cells": [
  {
   "cell_type": "markdown",
   "metadata": {},
   "source": [
    "Desafio 036\n",
    "Exercício Python 36: Escreva um programa para aprovar o empréstimo bancário para a compra de uma casa. Pergunte o valor da casa, o salário do comprador e em quantos anos ele vai pagar. A prestação mensal não pode exceder 30% do salário ou então o empréstimo será negado.\n",
    "\n"
   ]
  },
  {
   "cell_type": "code",
   "execution_count": 2,
   "metadata": {},
   "outputs": [
    {
     "name": "stdout",
     "output_type": "stream",
     "text": [
      "Parapagar uma casa de R$2000.00 em 12 anos \n",
      " a prensentação será de r$13.89\n"
     ]
    }
   ],
   "source": [
    "casa = float(input('Valor da casa:R$'))\n",
    "salário = float(input('Salário do comprador :R$'))\n",
    "anos = int(input('Quantos anos de financiamento?'))\n",
    "prestação = casa / (anos *12)\n",
    "print ('Para pagar uma casa de R${:.2f} em {} anos '.format(casa, anos ))\n",
    "print (\" a prensentação será de R${:.2f}\".format(prestação))\n"
   ]
  },
  {
   "cell_type": "code",
   "execution_count": 3,
   "metadata": {},
   "outputs": [
    {
     "name": "stdout",
     "output_type": "stream",
     "text": [
      "Parapagar uma casa de R$20000.00 em 10 anos  a prensentação será de R$166.67\n"
     ]
    }
   ],
   "source": [
    "casa = float(input('Valor da casa:R$'))\n",
    "salário = float(input('Salário do comprador :R$'))\n",
    "anos = int(input('Quantos anos de financiamento?'))\n",
    "prestação = casa / (anos *12)\n",
    "print ('Para pagar uma casa de R${:.2f} em {} anos '.format(casa, anos ),end='')\n",
    "print (\" a prensentação será de R${:.2f}\".format(prestação))\n",
    "\n"
   ]
  },
  {
   "cell_type": "code",
   "execution_count": 4,
   "metadata": {},
   "outputs": [
    {
     "name": "stdout",
     "output_type": "stream",
     "text": [
      "Para pagar uma casa de R$120000.00 em 10 anos  a prensentação será de R$1000.00\n",
      "Emprestimo NEGADO!\n"
     ]
    }
   ],
   "source": [
    "#aqui e quando a parcela não pode ultrapassar 30% do salario da pessoa\n",
    "casa = float(input('Valor da casa:R$'))\n",
    "salário = float(input('Salário do comprador :R$'))\n",
    "anos = int(input('Quantos anos de financiamento?'))\n",
    "prestação = casa / (anos *12)\n",
    "mínimo = salário * 30 / 100\n",
    "print ('Para pagar uma casa de R${:.2f} em {} anos '.format(casa, anos ),end='')\n",
    "print (\" a prensentação será de R${:.2f}\".format(prestação))\n",
    "if prestação <= mínimo:\n",
    "    print('Emprétimo pode ser CONCEDIDO!')\n",
    "else:\n",
    "    print ('Emprestimo NEGADO!')\n",
    "\n",
    "\n",
    "\n"
   ]
  },
  {
   "cell_type": "markdown",
   "metadata": {},
   "source": [
    "Desafio 037\n",
    "Exercício Python 37: Escreva um programa em Python que leia um número inteiro qualquer e peça para o usuário escolher qual será a base de conversão: 1 para binário, 2 para octal e 3 para hexadecimal.\n"
   ]
  },
  {
   "cell_type": "code",
   "execution_count": 5,
   "metadata": {},
   "outputs": [
    {
     "name": "stdout",
     "output_type": "stream",
     "text": [
      "Escolha uma das para conversão\n",
      "      [1]converter para BINÁRIO \n",
      "      [2]converter para OCTAL\n",
      "      [3]converter para HEXADECIMAL\n"
     ]
    }
   ],
   "source": [
    "#fazendo por partes , no final foi ate pedir em qual conversão eu queoro \n",
    "num = int(input('Digite um número inteiro :'))\n",
    "print('''Escolha uma das para conversão\n",
    "      [1]converter para BINÁRIO \n",
    "      [2]converter para OCTAL\n",
    "      [3]converter para HEXADECIMAL''')\n",
    "opção = int(input('Sua opção:'))"
   ]
  },
  {
   "cell_type": "code",
   "execution_count": 6,
   "metadata": {},
   "outputs": [
    {
     "name": "stdout",
     "output_type": "stream",
     "text": [
      "Escolha uma das para conversão\n",
      "      [1]converter para BINÁRIO \n",
      "      [2]converter para OCTAL\n",
      "      [3]converter para HEXADECIMAL\n",
      "123convertido para HEXADECIMAL é igual a 0x7b\n"
     ]
    }
   ],
   "source": [
    "#fazendo por partes , no final foi ate pedir em qual conversão eu queoro \n",
    "num = int(input('Digite um número inteiro :'))\n",
    "print('''Escolha uma das para conversão\n",
    "      [1]converter para BINÁRIO \n",
    "      [2]converter para OCTAL\n",
    "      [3]converter para HEXADECIMAL''')\n",
    "opção = int(input('Sua opção:'))\n",
    "if opção == 1 :\n",
    "    print('{}convertido para BINÁRIO é igual a {}'.format(num,bin (num)))\n",
    "elif opção == 2 :\n",
    "    print('{}convertido para octal é igual a {}'.format(num,oct (num)))\n",
    "elif opção == 3 :\n",
    "    print('{}convertido para HEXADECIMAL é igual a {}'.format(num,hex (num)))\n",
    "else: \n",
    "    print('Opção inválida. Tente novamente.')"
   ]
  },
  {
   "cell_type": "code",
   "execution_count": 8,
   "metadata": {},
   "outputs": [
    {
     "name": "stdout",
     "output_type": "stream",
     "text": [
      "Escolha uma das para conversão\n",
      "      [1]converter para BINÁRIO \n",
      "      [2]converter para OCTAL\n",
      "      [3]converter para HEXADECIMAL\n",
      "123convertido para HEXADECIMAL é igual a 7b\n"
     ]
    }
   ],
   "source": [
    "#fazendo por partes , e agora vamos tirar os dois primeiros que imprime junto \n",
    "# fatiamento de strings , ou tratamento de textos ou strings str no final coloco [2:] depois de (num)\n",
    "num = int(input('Digite um número inteiro :'))\n",
    "print('''Escolha uma das para conversão\n",
    "      [1]converter para BINÁRIO \n",
    "      [2]converter para OCTAL\n",
    "      [3]converter para HEXADECIMAL''')\n",
    "opção = int(input('Sua opção:'))\n",
    "if opção == 1 :\n",
    "    print('{}convertido para BINÁRIO é igual a {}'.format(num,bin (num)[2:]))\n",
    "elif opção == 2 :\n",
    "    print('{}convertido para octal é igual a {}'.format(num,oct (num)[2:]))\n",
    "elif opção == 3 :\n",
    "    print('{}convertido para HEXADECIMAL é igual a {}'.format(num,hex (num)[2:]))\n",
    "else: \n",
    "    print('Opção inválida. Tente novamente.')"
   ]
  },
  {
   "cell_type": "markdown",
   "metadata": {},
   "source": [
    "Desafio 038\n",
    "\n",
    "\n"
   ]
  },
  {
   "cell_type": "code",
   "execution_count": null,
   "metadata": {},
   "outputs": [],
   "source": []
  },
  {
   "cell_type": "code",
   "execution_count": null,
   "metadata": {},
   "outputs": [],
   "source": []
  },
  {
   "cell_type": "markdown",
   "metadata": {},
   "source": [
    "Desafio 039\n",
    "Exercício Python 038: Escreva um programa que leia dois números inteiros e compare-os. mostrando na tela uma mensagem:\n",
    "\n",
    "– O primeiro valor é maior\n",
    "\n",
    "– O segundo valor é maior\n",
    "\n",
    "– Não existe valor maior, os dois são iguais\n",
    "\n",
    "\n"
   ]
  },
  {
   "cell_type": "code",
   "execution_count": 11,
   "metadata": {},
   "outputs": [
    {
     "name": "stdout",
     "output_type": "stream",
     "text": [
      "Segundo valor é maior \n"
     ]
    }
   ],
   "source": [
    "# aqui observe que ainda fica um bug , se os numeros forem iguais ele não consegu dar á respota correta\n",
    "n1 = int(input('Primeiro número :'))\n",
    "n2 = int(input('Segundo número :'))\n",
    "if n1 > n2:\n",
    "    print('Primeiro valor é maior ')\n",
    "else:\n",
    "    print('Segundo valor é maior ')\n"
   ]
  },
  {
   "cell_type": "code",
   "execution_count": 20,
   "metadata": {},
   "outputs": [
    {
     "name": "stdout",
     "output_type": "stream",
     "text": [
      "Segundo valor é maior \n"
     ]
    },
    {
     "data": {
      "text/plain": [
       "3"
      ]
     },
     "execution_count": 20,
     "metadata": {},
     "output_type": "execute_result"
    }
   ],
   "source": [
    "n1 = int(input('Primeiro número :'))\n",
    "n2 = int(input('Segundo número :'))\n",
    "if n1 > n2:\n",
    "    print('Primeiro valor é maior ')\n",
    "elif n2 > n1:\n",
    "    print('Segundo valor é maior ')\n",
    "else:\n",
    "    print ('Os dois valores são iguais')\n"
   ]
  },
  {
   "cell_type": "code",
   "execution_count": 22,
   "metadata": {},
   "outputs": [
    {
     "name": "stdout",
     "output_type": "stream",
     "text": [
      "Os dois valores são iguais\n"
     ]
    }
   ],
   "source": [
    "n1 = int(input('Primeiro número :'))\n",
    "n2 = int(input('Segundo número :'))\n",
    "if n1 > n2:\n",
    "    print('Primeiro valor é maior ')\n",
    "elif n2 > n1:\n",
    "    print('Segundo valor é maior ')\n",
    "elif n1 == n2:\n",
    "    print ('Os dois valores são iguais')"
   ]
  },
  {
   "cell_type": "markdown",
   "metadata": {},
   "source": [
    "Desafio 040\n",
    "Exercício Python 040: Crie um programa que leia duas notas de um aluno e calcule sua média, mostrando uma mensagem no final, de acordo com a média atingida:\n",
    "\n",
    "– Média abaixo de 5.0: REPROVADO\n",
    "\n",
    "– Média entre 5.0 e 6.9: RECUPERAÇÃO\n",
    "\n",
    "– Média 7.0 ou superior: APROVADO\n",
    "\n"
   ]
  },
  {
   "cell_type": "code",
   "execution_count": 23,
   "metadata": {},
   "outputs": [
    {
     "name": "stdout",
     "output_type": "stream",
     "text": [
      "Tirando5.2, a média do aluno é 6.2\n"
     ]
    }
   ],
   "source": [
    "n1 = float(input('Primeria nota:'))\n",
    "n2 = float(input('Segunda nota:'))\n",
    "média = (n1 + n2 )/2\n",
    "print('Tirando{:.1f}, a média do aluno é {:.1f}'.format(n1, n2 ,média))\n",
    "\n"
   ]
  },
  {
   "cell_type": "code",
   "execution_count": 25,
   "metadata": {},
   "outputs": [
    {
     "name": "stdout",
     "output_type": "stream",
     "text": [
      "Tirando8.0, a média do aluno é 8.0\n"
     ]
    }
   ],
   "source": [
    "n1 = float(input('Primeria nota:'))\n",
    "n2 = float(input('Segunda nota:'))\n",
    "média = (n1 + n2 )/2\n",
    "print('Tirando {:.1f}, a média do aluno é {:.1f}'.format(n1, n2 ,média))\n",
    "if média >=5 and média <7:\n",
    "    print(' O aluno está de recuperação ')\n",
    "\n"
   ]
  },
  {
   "cell_type": "code",
   "execution_count": 28,
   "metadata": {},
   "outputs": [
    {
     "name": "stdout",
     "output_type": "stream",
     "text": [
      "Tirando 6.0, a média do aluno é 5.0\n",
      " O aluno está de recuperação \n"
     ]
    }
   ],
   "source": [
    "# outra forma simplificada \n",
    "n1 = float(input('Primeria nota:'))\n",
    "n2 = float(input('Segunda nota:'))\n",
    "média = (n1 + n2 )/2\n",
    "print('Tirando {:.1f}, a média do aluno é {:.1f}'.format(n1, n2 ,média))\n",
    "if 7> média >= 5 :\n",
    "    print(' O aluno está de recuperação ')"
   ]
  },
  {
   "cell_type": "code",
   "execution_count": 31,
   "metadata": {},
   "outputs": [
    {
     "name": "stdout",
     "output_type": "stream",
     "text": [
      "Tirando 8.0, a média do aluno é 9.0\n",
      " O aluno está Aprovado\n"
     ]
    }
   ],
   "source": [
    "n1 = float(input('Primeria nota:'))\n",
    "n2 = float(input('Segunda nota:'))\n",
    "média = (n1 + n2 )/2\n",
    "print('Tirando {:.1f}, a média do aluno é {:.1f}'.format(n1, n2 ,média))\n",
    "if 7> média >= 5 :\n",
    "    print(' O aluno está de recuperação ')\n",
    "elif média <5 :\n",
    "    print(' O aluno está reprovado.')\n",
    "else:\n",
    "    print(' O aluno está Aprovado')\n",
    "\n",
    "\n"
   ]
  },
  {
   "cell_type": "code",
   "execution_count": 34,
   "metadata": {},
   "outputs": [
    {
     "name": "stdout",
     "output_type": "stream",
     "text": [
      "Tirando 8.0, a média do aluno é 9.0\n",
      " O aluno está Aprovado\n"
     ]
    }
   ],
   "source": [
    "n1 = float(input('Primeria nota:'))\n",
    "n2 = float(input('Segunda nota:'))\n",
    "média = (n1 + n2 )/2\n",
    "print('Tirando {:.1f}, a média do aluno é {:.1f}'.format(n1, n2 ,média))\n",
    "if 7> média >= 5 :\n",
    "    print(' O aluno está de recuperação ')\n",
    "elif média <5 :\n",
    "    print(' O aluno está reprovado.')\n",
    "elif média >= 7:\n",
    "    print(' O aluno está Aprovado')"
   ]
  },
  {
   "cell_type": "markdown",
   "metadata": {},
   "source": [
    "Desafio 041\n",
    "Exercício Python 041: A Confederação Nacional de Natação precisa de um programa que leia o ano de nascimento de um atleta e mostre sua categoria, de acordo com a idade:\n",
    "\n",
    "– Até 9 anos: MIRIM\n",
    "\n",
    "– Até 14 anos: INFANTIL\n",
    "\n",
    "– Até 19 anos: JÚNIOR\n",
    "\n",
    "– Até 25 anos: SÊNIOR\n",
    "\n",
    "– Acima de 25 anos: MASTER\n",
    "\n",
    "\n"
   ]
  },
  {
   "cell_type": "code",
   "execution_count": 35,
   "metadata": {},
   "outputs": [
    {
     "name": "stdout",
     "output_type": "stream",
     "text": [
      "Oatleta tem 39 anos.\n",
      "Classificaçõa: MASTER\n"
     ]
    }
   ],
   "source": [
    "from datetime import date \n",
    "atual = date.today().year\n",
    "nascimento = int(input('Ano de nascimento:'))\n",
    "idade = atual - nascimento \n",
    "print('Oatleta tem {} anos.'.format(idade))\n",
    "if idade <= 9:\n",
    "    print('Classificaçõa:MIRIM')\n",
    "elif idade <= 14:\n",
    "    print('Classificaçõa:INFANTIL')\n",
    "elif idade <= 19:\n",
    "    print('Classificaçõa:JUNIOR')\n",
    "elif idade <= 25:\n",
    "    print('Classificaçõa: SÊNIOR')\n",
    "else:\n",
    "    print('Classificaçõa: MASTER')"
   ]
  },
  {
   "cell_type": "code",
   "execution_count": null,
   "metadata": {},
   "outputs": [],
   "source": []
  },
  {
   "cell_type": "markdown",
   "metadata": {},
   "source": [
    "Desafio 042\n",
    "Exercício Python 42: Refaça o DESAFIO 35 dos triângulos, acrescentando o recurso de mostrar que tipo de triângulo será formado:\n",
    "\n",
    "– EQUILÁTERO: todos os lados iguais\n",
    "\n",
    "– ISÓSCELES: dois lados iguais, um diferente\n",
    "\n",
    "– ESCALENO: todos os lados diferentes"
   ]
  },
  {
   "cell_type": "code",
   "execution_count": 36,
   "metadata": {},
   "outputs": [
    {
     "name": "stdout",
     "output_type": "stream",
     "text": [
      "Os segmentos acima NÃO PODEM FORMAR triângulo!\n"
     ]
    }
   ],
   "source": [
    "# IF E ELSE COMPOST NORMAL \n",
    "r1 = float (input('Primeiro segmento :'))\n",
    "r2 = float (input('Segundo segmento  :'))\n",
    "r3 = float (input('Terceiro segmento :'))\n",
    "if r1 < r2 + r3 and r2 < r1 + r3 and r3 < r1 + r2:\n",
    "    print('Os segmentos acima PODEM FORMAR UM triângulo!')\n",
    "else:\n",
    "     print('Os segmentos acima NÃO PODEM FORMAR triângulo!')\n",
    "\n"
   ]
  },
  {
   "cell_type": "code",
   "execution_count": 39,
   "metadata": {},
   "outputs": [
    {
     "name": "stdout",
     "output_type": "stream",
     "text": [
      "Os segmentos acima NÃO PODEM FORMAR triângulo!\n"
     ]
    }
   ],
   "source": [
    "#AQUI E IF COM IF  MUITO IMPOTANTE \n",
    "r1 = float (input('Primeiro segmento :'))\n",
    "r2 = float (input('Segundo segmento  :'))\n",
    "r3 = float (input('Terceiro segmento :'))\n",
    "if r1 < r2 + r3 and r2 < r1 + r3 and r3 < r1 + r2:\n",
    "    print('Os segmentos acima PODEM FORMAR UM triângulo!')\n",
    "    print('Os segmentos acima PODEM FORMAR UM triângulo!')\n",
    "    if r1 == r2 == r3:\n",
    "        print('Equilatero!')\n",
    "else:\n",
    "     print('Os segmentos acima NÃO PODEM FORMAR triângulo!')\n",
    "\n",
    "\n"
   ]
  },
  {
   "cell_type": "code",
   "execution_count": 40,
   "metadata": {},
   "outputs": [
    {
     "name": "stdout",
     "output_type": "stream",
     "text": [
      "Os segmentos acima PODEM FORMAR UM triângulo!\n",
      "Escaleno!\n"
     ]
    }
   ],
   "source": [
    "#AQUI E IF COM IF  MUITO IMPOTANTE \n",
    "\n",
    "r1 = float (input('Primeiro segmento :'))\n",
    "r2 = float (input('Segundo segmento  :'))\n",
    "r3 = float (input('Terceiro segmento :'))\n",
    "if r1 < r2 + r3 and r2 < r1 + r3 and r3 < r1 + r2:\n",
    "    print('Os segmentos acima PODEM FORMAR UM triângulo!')\n",
    "    if r1 == r2 == r3:\n",
    "        print('Equilatero!')\n",
    "    if r1!= r2 != r3:\n",
    "        print ('Escaleno!')\n",
    "    \n",
    "else:\n",
    "    print('Os segmentos acima NÃO PODEM FORMAR triângulo!')\n",
    "\n"
   ]
  },
  {
   "cell_type": "code",
   "execution_count": 41,
   "metadata": {},
   "outputs": [
    {
     "name": "stdout",
     "output_type": "stream",
     "text": [
      "Os segmentos acima PODEM FORMAR UM triângulo!\n"
     ]
    }
   ],
   "source": [
    "#AQUI E IF COM IF  MUITO IMPOTANTE \n",
    "\n",
    "r1 = float (input('Primeiro segmento :'))\n",
    "r2 = float (input('Segundo segmento  :'))\n",
    "r3 = float (input('Terceiro segmento :'))\n",
    "if r1 < r2 + r3 and r2 < r1 + r3 and r3 < r1 + r2:\n",
    "    print('Os segmentos acima PODEM FORMAR UM triângulo!')\n",
    "    if r1 == r2 == r3:\n",
    "        print('Equilatero!')\n",
    "    if r1!= r2 != r3 != r1:\n",
    "        print ('Escaleno!')\n",
    "    \n",
    "else:\n",
    "    print('Os segmentos acima NÃO PODEM FORMAR triângulo!')"
   ]
  },
  {
   "cell_type": "code",
   "execution_count": 44,
   "metadata": {},
   "outputs": [
    {
     "name": "stdout",
     "output_type": "stream",
     "text": [
      "Os segmentos acima PODEM FORMAR UM triângulo!\n",
      "Isósceles\n"
     ]
    }
   ],
   "source": [
    "#AQUI E IF COM IF  MUITO IMPOTANTE \n",
    "\n",
    "r1 = float (input('Primeiro segmento :'))\n",
    "r2 = float (input('Segundo segmento  :'))\n",
    "r3 = float (input('Terceiro segmento :'))\n",
    "if r1 < r2 + r3 and r2 < r1 + r3 and r3 < r1 + r2:\n",
    "    print('Os segmentos acima PODEM FORMAR UM triângulo!')\n",
    "    if r1 == r2 == r3:\n",
    "        print('Equilatero!')\n",
    "    elif r1!= r2 != r3 != r1:\n",
    "        print ('Escaleno!')\n",
    "    else:\n",
    "        print ('Isósceles')\n",
    "else:\n",
    "    print('Os segmentos acima NÃO PODEM FORMAR triângulo!')"
   ]
  },
  {
   "cell_type": "markdown",
   "metadata": {},
   "source": [
    "Desafio 043\n",
    "Exercício Python 43: Desenvolva uma lógica que leia o peso e a altura de uma pessoa, calcule seu Índice de Massa Corporal (IMC) e mostre seu status, de acordo com a tabela abaixo:\n",
    "\n",
    "– IMC abaixo de 18,5: Abaixo do Peso\n",
    "\n",
    "– Entre 18,5 e 25: Peso Ideal\n",
    "\n",
    "– 25 até 30: Sobrepeso\n",
    "\n",
    "– 30 até 40: Obesidade\n",
    "\n",
    "– Acima de 40: Obesidade Mórbida\n"
   ]
  },
  {
   "cell_type": "markdown",
   "metadata": {},
   "source": [
    "Observe que para cada codigo tem informações que devo buscar na net como se faz , aqui temos o melhor exemplo disso , visto que as informações sobre o IMC , devo buscar em uma fonte segura como o ministerio da saúde.\n",
    "Depois de buscar os padrões devo buscar como e feito cada tipo de calculo para obter esse resultado , e ai bem amor , vamos estudar a matematica  , e depois definir como vou montar os codigos com as informações que eu ja tenho ."
   ]
  },
  {
   "cell_type": "code",
   "execution_count": 47,
   "metadata": {},
   "outputs": [
    {
     "name": "stdout",
     "output_type": "stream",
     "text": [
      "O IMC dessa pessoa é de 51.9\n"
     ]
    }
   ],
   "source": [
    "#parte 1 do codigo , lembrando que devemos far por partes , para evidar grandes erros .\n",
    "# vamos começar a esquever essas partes antes dos codigos \n",
    "peso = float(input('Qual é seu peso? (kg)'))\n",
    "altura = float(input('Qual é sua altura? (m)'))\n",
    "imc = peso / (altura **2)\n",
    "print(\"O IMC dessa pessoa é de {:.1f}\".format(imc))\n",
    "\n"
   ]
  },
  {
   "cell_type": "code",
   "execution_count": 52,
   "metadata": {},
   "outputs": [
    {
     "name": "stdout",
     "output_type": "stream",
     "text": [
      "O IMC dessa pessoa é de 27.7\n",
      "Você esta com SOBREPESO\n"
     ]
    }
   ],
   "source": [
    "peso = float(input('Qual é seu peso? (kg)'))\n",
    "altura = float(input('Qual é sua altura? (m)'))\n",
    "imc = peso / (altura **2)\n",
    "print(\"O IMC dessa pessoa é de {:.1f}\".format(imc))\n",
    "if imc < 18.5:\n",
    "    print('Você está ABAIXO DO PESO normal')\n",
    "elif 18.5 <= imc < 25:\n",
    "    print('Parabens , você está na faixa de Peso Normal')\n",
    "elif 25 <= imc < 30:\n",
    "    print('Você esta com SOBREPESO')\n"
   ]
  },
  {
   "cell_type": "code",
   "execution_count": 53,
   "metadata": {},
   "outputs": [
    {
     "name": "stdout",
     "output_type": "stream",
     "text": [
      "O IMC dessa pessoa é de 69.2\n",
      "Você esta com OBESIDADE MÓRBIDA, CUIDADO!\n"
     ]
    }
   ],
   "source": [
    "peso = float(input('Qual é seu peso? (kg)'))\n",
    "altura = float(input('Qual é sua altura? (m)'))\n",
    "imc = peso / (altura **2)\n",
    "print(\"O IMC dessa pessoa é de {:.1f}\".format(imc))\n",
    "if imc < 18.5:\n",
    "    print('Você está ABAIXO DO PESO normal')\n",
    "elif 18.5 <= imc < 25:\n",
    "    print('Parabens , você está na faixa de Peso Normal')\n",
    "elif 25 <= imc < 30:\n",
    "    print('Você esta com SOBREPESO')\n",
    "elif 30 <= imc < 40:\n",
    "    print('Você esta com OBESIDADE!')\n",
    "elif imc >= 40:\n",
    "    print('Você esta com OBESIDADE MÓRBIDA, CUIDADO!')\n",
    "\n",
    "\n"
   ]
  },
  {
   "cell_type": "markdown",
   "metadata": {},
   "source": [
    "Desafio 044\n",
    "Exercício Python 44: Elabore um programa que calcule o valor a ser pago por um produto, considerando o seu preço normal e condição de pagamento:\n",
    "\n",
    "– à vista dinheiro/cheque: 10% de desconto\n",
    "\n",
    "– à vista no cartão: 5% de desconto\n",
    "\n",
    "– em até 2x no cartão: preço formal \n",
    "\n",
    "– 3x ou mais no cartão: 20% de juros\n",
    "\n",
    "\n"
   ]
  },
  {
   "cell_type": "code",
   "execution_count": 54,
   "metadata": {},
   "outputs": [
    {
     "name": "stdout",
     "output_type": "stream",
     "text": [
      "Lojas Guanabaras\n"
     ]
    }
   ],
   "source": [
    "# fazer por partes e ir vendos as mudaças \n",
    "\n",
    "print('Lojas Guanabaras')"
   ]
  },
  {
   "cell_type": "code",
   "execution_count": 58,
   "metadata": {},
   "outputs": [
    {
     "name": "stdout",
     "output_type": "stream",
     "text": [
      "            Lojas Guanabaras            \n"
     ]
    }
   ],
   "source": [
    "print('{:^40}'.format('Lojas Guanabaras'))\n",
    "\n"
   ]
  },
  {
   "cell_type": "code",
   "execution_count": 60,
   "metadata": {},
   "outputs": [
    {
     "name": "stdout",
     "output_type": "stream",
     "text": [
      "=========== Lojas Guanabaras ===========\n"
     ]
    }
   ],
   "source": [
    "print('{:=^40}'.format(' Lojas Guanabaras '))\n",
    "\n",
    "\n"
   ]
  },
  {
   "cell_type": "code",
   "execution_count": 62,
   "metadata": {},
   "outputs": [
    {
     "name": "stdout",
     "output_type": "stream",
     "text": [
      "=========== Lojas Guanabaras ===========\n"
     ]
    },
    {
     "name": "stdout",
     "output_type": "stream",
     "text": [
      "Formas de pagamento\n",
      "       [1] á vista dinheiro / cheque \n",
      "       [2] á vista cartão\n",
      "       [3] 2x no cartão\n",
      "       [4] 3x no cartão\n"
     ]
    }
   ],
   "source": [
    "print('{:=^40}'.format(' Lojas Guanabaras '))\n",
    "preço = float(input('Preço das comprar:R$'))\n",
    "print ('''Formas de pagamento\n",
    "       [1] á vista dinheiro / cheque \n",
    "       [2] á vista cartão\n",
    "       [3] 2x no cartão\n",
    "       [4] 3x no cartão''')\n",
    "opção = int(input('Qual é a opção? '))\n"
   ]
  },
  {
   "cell_type": "code",
   "execution_count": 64,
   "metadata": {},
   "outputs": [
    {
     "name": "stdout",
     "output_type": "stream",
     "text": [
      "=========== Lojas Guanabaras ===========\n",
      "Formas de pagamento\n",
      "       [1] á vista dinheiro / cheque \n",
      "       [2] á vista cartão\n",
      "       [3] 2x no cartão\n",
      "       [4] 3x no cartão\n",
      "Sua compra será parcela em 2x de R$250.00\n",
      "Sua compra de R$500.00vai custar R$500.00 no final.\n"
     ]
    }
   ],
   "source": [
    "print('{:=^40}'.format(' Lojas Guanabaras '))\n",
    "preço = float(input('Preço das comprar:R$'))\n",
    "print ('''Formas de pagamento\n",
    "       [1] á vista dinheiro / cheque \n",
    "       [2] á vista cartão\n",
    "       [3] 2x no cartão\n",
    "       [4] 3x no cartão''')\n",
    "opção = int(input('Qual é a opção? '))\n",
    "if opção == 1: \n",
    "    total = preço - ( preço * 10 / 100)\n",
    "elif opção == 2: \n",
    "    total = preço - ( preço * 5 / 100)\n",
    "elif opção == 3 :\n",
    "    total = preço\n",
    "    parcela = total / 2\n",
    "    print ('Sua compra será parcela em 2x de R${:.2f}'.format(parcela))\n",
    "print('Sua compra de R${:.2f}vai custar R${:.2f} no final.'.format(preço,total))\n",
    "\n"
   ]
  },
  {
   "cell_type": "code",
   "execution_count": 67,
   "metadata": {},
   "outputs": [
    {
     "name": "stdout",
     "output_type": "stream",
     "text": [
      "=========== Lojas Guanabaras ===========\n",
      "Formas de pagamento\n",
      "       [1] á vista dinheiro / cheque \n",
      "       [2] á vista cartão\n",
      "       [3] 2x no cartão\n",
      "       [4] 3x no cartão\n",
      "Sua compra de R$1000.00vai custar R$600.00 no final.\n"
     ]
    }
   ],
   "source": [
    "print('{:=^40}'.format(' Lojas Guanabaras '))\n",
    "preço = float(input('Preço das comprar:R$'))\n",
    "print ('''Formas de pagamento\n",
    "       [1] á vista dinheiro / cheque \n",
    "       [2] á vista cartão\n",
    "       [3] 2x no cartão\n",
    "       [4] 3x no cartão''')\n",
    "opção = int(input('Qual é a opção? '))\n",
    "if opção == 1: \n",
    "    total = preço - ( preço * 10 / 100)\n",
    "elif opção == 2: \n",
    "    total = preço - ( preço * 5 / 100)\n",
    "elif opção == 3 :\n",
    "    total = preço\n",
    "    parcela = total / 2\n",
    "    print ('Sua compra será parcela em 2x de R${:.2f}'.format(parcela))\n",
    "elif opção == 4 :\n",
    "    total = preço + ( preço * 20 / 100)\n",
    "    totparc = int(input('Quantas parcelas?'))\n",
    "    parcelas = total / totparc\n",
    "    print ('Sua compra será parcela em {}x de R${:.2f}COM JUROS'.format(totparc,parcela))\n",
    "print('Sua compra de R${:.2f}vai custar R${:.2f} no final.'.format(preço,total))\n",
    "\n",
    "\n"
   ]
  },
  {
   "cell_type": "code",
   "execution_count": 70,
   "metadata": {},
   "outputs": [
    {
     "name": "stdout",
     "output_type": "stream",
     "text": [
      "=========== Lojas Guanabaras ===========\n",
      "Formas de pagamento\n",
      "       [1] á vista dinheiro / cheque \n",
      "       [2] á vista cartão\n",
      "       [3] 2x no cartão\n",
      "       [4] 3x no cartão\n",
      "Opção invalida de pagamento. Tente novamente!\n",
      "Sua compra de R$1000.00vai custar R$1000.00 no final.\n"
     ]
    }
   ],
   "source": [
    "# ainda temos um possivel erro , que é se o usuario digitar uma opção que não exite , então temos que dar a solução para esse pb .\n",
    "print('{:=^40}'.format(' Lojas Guanabaras '))\n",
    "preço = float(input('Preço das comprar:R$'))\n",
    "print ('''Formas de pagamento\n",
    "       [1] á vista dinheiro / cheque \n",
    "       [2] á vista cartão\n",
    "       [3] 2x no cartão\n",
    "       [4] 3x no cartão''')\n",
    "opção = int(input('Qual é a opção? '))\n",
    "if opção == 1: \n",
    "    total = preço - ( preço * 10 / 100)\n",
    "elif opção == 2: \n",
    "    total = preço - ( preço * 5 / 100)\n",
    "elif opção == 3 :\n",
    "    total = preço\n",
    "    parcela = total / 2\n",
    "    print ('Sua compra será parcela em 2x de R${:.2f}'.format(parcela))\n",
    "elif opção == 4 :\n",
    "    total = preço + ( preço * 20 / 100)\n",
    "    totparc = int(input('Quantas parcelas?'))\n",
    "    parcelas = total / totparc\n",
    "    print ('Sua compra será parcela em {}x de R${:.2f}COM JUROS'.format(totparc,parcela))\n",
    "else :\n",
    "    total = preço\n",
    "    print('Opção invalida de pagamento. Tente novamente!')\n",
    "print('Sua compra de R${:.2f}vai custar R${:.2f} no final.'.format(preço,total))"
   ]
  },
  {
   "cell_type": "code",
   "execution_count": null,
   "metadata": {},
   "outputs": [],
   "source": []
  },
  {
   "cell_type": "code",
   "execution_count": null,
   "metadata": {},
   "outputs": [],
   "source": []
  },
  {
   "cell_type": "markdown",
   "metadata": {},
   "source": [
    "Desafio 045\n",
    "Exercício Python 45: Crie um programa que faça o computador jogar Jokenpô com você."
   ]
  },
  {
   "cell_type": "code",
   "execution_count": 92,
   "metadata": {},
   "outputs": [
    {
     "name": "stdout",
     "output_type": "stream",
     "text": [
      "O computador escolheu 1\n"
     ]
    }
   ],
   "source": [
    "from random import randint\n",
    "itens = ('Pedra ', ' Papel ', 'Tesoura')\n",
    "computador = randint(0,2)\n",
    "print('O computador escolheu {}'.format(computador))"
   ]
  },
  {
   "cell_type": "code",
   "execution_count": 120,
   "metadata": {},
   "outputs": [
    {
     "name": "stdout",
     "output_type": "stream",
     "text": [
      "O computador escolheu Tesoura\n"
     ]
    }
   ],
   "source": [
    "from random import randint\n",
    "itens = ('Pedra ', ' Papel ', 'Tesoura')\n",
    "computador = randint(0,2)\n",
    "print('O computador escolheu {}'.format(itens[computador]))"
   ]
  },
  {
   "cell_type": "code",
   "execution_count": 121,
   "metadata": {},
   "outputs": [
    {
     "name": "stdout",
     "output_type": "stream",
     "text": [
      " Suas opções:\n",
      "      [0] pedra\n",
      "      [1] papel\n",
      "      [2] tesoura\n",
      "computadorjogouPedra \n",
      "Jogador jogou Tesoura\n"
     ]
    }
   ],
   "source": [
    "#agora vamos tirar o computador pq e como se estivessemos dando o jogo pronto para ele\n",
    "from random import randint\n",
    "itens = ('Pedra ', ' Papel ', 'Tesoura')\n",
    "computador = randint(0,2)\n",
    "#print('O computador escolheu {}'.format(itens[computador]))\n",
    "print(''' Suas opções:\n",
    "      [0] pedra\n",
    "      [1] papel\n",
    "      [2] tesoura''')\n",
    "jogador = int(input('Qual é a sua jogada?'))\n",
    "print('computadorjogou{}'.format(itens[computador]))\n",
    "print('Jogador jogou {}'.format(itens[jogador]))"
   ]
  },
  {
   "cell_type": "code",
   "execution_count": 122,
   "metadata": {},
   "outputs": [
    {
     "name": "stdout",
     "output_type": "stream",
     "text": [
      " Suas opções:\n",
      "      [0] pedra\n",
      "      [1] papel\n",
      "      [2] tesoura\n",
      "-=-=-=-=-=-=-=-=-=-=-=\n",
      "computadorjogouTesoura\n",
      "Jogador jogou  Papel \n",
      "-=-=-=-=-=-=-=-=-=-=-=\n"
     ]
    }
   ],
   "source": [
    "#formatação para ficar bunitin\n",
    "from random import randint\n",
    "itens = ('Pedra ', ' Papel ', 'Tesoura')\n",
    "computador = randint(0,2)\n",
    "#print('O computador escolheu {}'.format(itens[computador]))\n",
    "print(''' Suas opções:\n",
    "      [0] pedra\n",
    "      [1] papel\n",
    "      [2] tesoura''')\n",
    "jogador = int(input('Qual é a sua jogada?'))\n",
    "print('-=' * 11)\n",
    "print('Computador jogou{}'.format(itens[computador]))\n",
    "print('Jogador jogou {}'.format(itens[jogador]))\n",
    "print('-=' * 11)"
   ]
  },
  {
   "cell_type": "code",
   "execution_count": 138,
   "metadata": {},
   "outputs": [
    {
     "name": "stdout",
     "output_type": "stream",
     "text": [
      " Suas opções:\n",
      "      [0] pedra\n",
      "      [1] papel\n",
      "      [2] tesoura\n",
      "-=-=-=-=-=-=-=-=-=-=-=\n",
      "Computador jogou Papel \n",
      "Jogador jogou Tesoura\n",
      "-=-=-=-=-=-=-=-=-=-=-=\n",
      "Jogador vence\n"
     ]
    }
   ],
   "source": [
    "# agora vamos mantar a estrutura condicional \n",
    "#formatação para ficar bunitin\n",
    "from random import randint\n",
    "itens = ('Pedra ', ' Papel ', 'Tesoura')\n",
    "computador = randint(0,2)\n",
    "#print('O computador escolheu {}'.format(itens[computador]))\n",
    "print(''' Suas opções:\n",
    "      [0] pedra\n",
    "      [1] papel\n",
    "      [2] tesoura''')\n",
    "jogador = int(input('Qual é a sua jogada?'))\n",
    "print('-=' * 11)\n",
    "print('Computador jogou{}'.format(itens[computador]))\n",
    "print('Jogador jogou {}'.format(itens[jogador]))\n",
    "print('-=' * 11)\n",
    "if computador == 0:  # computador jogou PEDRA\n",
    "    if jogador == 0:\n",
    "        print('Empate')\n",
    "    elif jogador == 1: \n",
    "        print('Jogador vence')\n",
    "    elif jogador == 2:\n",
    "        print('Computador vence')\n",
    "    else:\n",
    "        print('Jogada INVÁLIDA')\n",
    "elif computador == 1:  # computador jogou PAPEL\n",
    "    if jogador == 0:\n",
    "        print('Computador vence')\n",
    "    elif jogador == 1: \n",
    "        print('Empate')\n",
    "    elif jogador == 2:\n",
    "        print('Jogador vence')\n",
    "    else:\n",
    "        print('Jogada INVÁLIDA')\n",
    "\n",
    "elif computador == 2:  # computador jogou TESOURA\n",
    "    if jogador == 0:\n",
    "        print('Jogador vence')\n",
    "    elif jogador == 1: \n",
    "        print('Computador vence')\n",
    "    elif jogador == 2:\n",
    "        print('Empate')\n",
    "    else:\n",
    "        print('Jogada INVÁLIDA')\n",
    "\n"
   ]
  },
  {
   "cell_type": "code",
   "execution_count": 144,
   "metadata": {},
   "outputs": [
    {
     "name": "stdout",
     "output_type": "stream",
     "text": [
      " Suas opções:\n",
      "      [0] pedra\n",
      "      [1] papel\n",
      "      [2] tesoura\n",
      "JO\n",
      "KEN\n",
      "PO!!!\n",
      "-=-=-=-=-=-=-=-=-=-=-=\n",
      "Computador jogouTesoura\n",
      "Jogador jogou Tesoura\n",
      "-=-=-=-=-=-=-=-=-=-=-=\n",
      "Empate\n"
     ]
    }
   ],
   "source": [
    "#agora vamos dar aquele segundinho do jogo enquanto batemos nas mão para jogar , para isso vamos importar a função de tempo \n",
    "\n",
    "from random import randint\n",
    "from time import sleep\n",
    "itens = ('Pedra ', ' Papel ', 'Tesoura')\n",
    "computador = randint(0,2)\n",
    "#print('O computador escolheu {}'.format(itens[computador]))\n",
    "print(''' Suas opções:\n",
    "      [0] pedra\n",
    "      [1] papel\n",
    "      [2] tesoura''')\n",
    "jogador = int(input('Qual é a sua jogada?'))\n",
    "print('JO')\n",
    "sleep(1)\n",
    "print('KEN')\n",
    "sleep(1)\n",
    "print('PO!!!')\n",
    "sleep(1)\n",
    "print('-=' * 11)\n",
    "print('Computador jogou{}'.format(itens[computador]))\n",
    "print('Jogador jogou {}'.format(itens[jogador]))\n",
    "print('-=' * 11)\n",
    "if computador == 0:  # computador jogou PEDRA\n",
    "    if jogador == 0:\n",
    "        print('Empate')\n",
    "    elif jogador == 1: \n",
    "        print('Jogador vence')\n",
    "    elif jogador == 2:\n",
    "        print('Computador vence')\n",
    "    else:\n",
    "        print('Jogada INVÁLIDA')\n",
    "elif computador == 1:  # computador jogou PAPEL\n",
    "    if jogador == 0:\n",
    "        print('Computador vence')\n",
    "    elif jogador == 1: \n",
    "        print('Empate')\n",
    "    elif jogador == 2:\n",
    "        print('Jogador vence')\n",
    "    else:\n",
    "        print('Jogada INVÁLIDA')\n",
    "\n",
    "elif computador == 2:  # computador jogou TESOURA\n",
    "    if jogador == 0:\n",
    "        print('Jogador vence')\n",
    "    elif jogador == 1: \n",
    "        print('Computador vence')\n",
    "    elif jogador == 2:\n",
    "        print('Empate')\n",
    "    else:\n",
    "        print('Jogada INVÁLIDA')"
   ]
  }
 ],
 "metadata": {
  "kernelspec": {
   "display_name": "Python 3",
   "language": "python",
   "name": "python3"
  },
  "language_info": {
   "codemirror_mode": {
    "name": "ipython",
    "version": 3
   },
   "file_extension": ".py",
   "mimetype": "text/x-python",
   "name": "python",
   "nbconvert_exporter": "python",
   "pygments_lexer": "ipython3",
   "version": "3.12.4"
  }
 },
 "nbformat": 4,
 "nbformat_minor": 2
}
