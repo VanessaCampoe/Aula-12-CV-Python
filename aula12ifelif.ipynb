{
 "cells": [
  {
   "cell_type": "code",
   "execution_count": 2,
   "metadata": {},
   "outputs": [
    {
     "name": "stdout",
     "output_type": "stream",
     "text": [
      "Que nome bonito!\n",
      "Tenha um bom dia,Gusta!\n"
     ]
    }
   ],
   "source": [
    "# estrutura condicional aninhada\n",
    "\n",
    "nome = str(input('Qual é seu nome?'))\n",
    "if nome == 'Gusta':\n",
    "    print('Que nome bonito!')\n",
    "elif nome ==' Pedro' or nome ==\"Maria\"or nome == 'Paulo':\n",
    "    print('Seu nome é bem popular no Brasil.')\n",
    "elif nome in 'Ana Cláudia Jéssica Juliana':\n",
    "    print('Belo nome feminino')\n",
    "else:\n",
    "    print('Seu nome é bem normal.')\n",
    "print('Tenha um bom dia,{}!'.format(nome))\n",
    "\n"
   ]
  },
  {
   "cell_type": "code",
   "execution_count": 4,
   "metadata": {},
   "outputs": [
    {
     "name": "stdout",
     "output_type": "stream",
     "text": [
      "Seu nome é bem normal.\n",
      "Tenha um bom dia,vanessa!\n"
     ]
    }
   ],
   "source": [
    "nome = str(input('Qual é seu nome?'))\n",
    "if nome == 'Gusta':\n",
    "    print('Que nome bonito!')\n",
    "elif nome ==' Pedro' or nome ==\"Maria\"or nome == 'Paulo':\n",
    "    print('Seu nome é bem popular no Brasil.')\n",
    "elif nome in 'Ana Cláudia Jéssica Juliana':\n",
    "    print('Belo nome feminino')\n",
    "else:\n",
    "    print('Seu nome é bem normal.')\n",
    "print('Tenha um bom dia,{}!'.format(nome))"
   ]
  },
  {
   "cell_type": "code",
   "execution_count": 3,
   "metadata": {},
   "outputs": [
    {
     "name": "stdout",
     "output_type": "stream",
     "text": [
      "Tenha um bom dia,vanesa!\n"
     ]
    }
   ],
   "source": [
    "nome = str(input('Qual é seu nome?'))\n",
    "if nome == 'Gusta':\n",
    "    print('Que nome bonito!')\n",
    "elif nome ==' Pedro' or nome ==\"Maria\"or nome == 'Paulo':\n",
    "    print('Seu nome é bem popular no Brasil.')\n",
    "elif nome in 'Ana Cláudia Jéssica Juliana':\n",
    "    print('Belo nome feminino')\n",
    "# tiramos o else para mostrar que ele é opcional , ele da uma resultado quando não é nenhuma das possibilidades oferecidas \n",
    "print('Tenha um bom dia,{}!'.format(nome))"
   ]
  },
  {
   "cell_type": "code",
   "execution_count": null,
   "metadata": {},
   "outputs": [],
   "source": []
  },
  {
   "cell_type": "code",
   "execution_count": null,
   "metadata": {},
   "outputs": [],
   "source": []
  }
 ],
 "metadata": {
  "kernelspec": {
   "display_name": "Python 3",
   "language": "python",
   "name": "python3"
  },
  "language_info": {
   "codemirror_mode": {
    "name": "ipython",
    "version": 3
   },
   "file_extension": ".py",
   "mimetype": "text/x-python",
   "name": "python",
   "nbconvert_exporter": "python",
   "pygments_lexer": "ipython3",
   "version": "3.12.4"
  }
 },
 "nbformat": 4,
 "nbformat_minor": 2
}
